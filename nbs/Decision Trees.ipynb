{
 "cells": [
  {
   "cell_type": "code",
   "execution_count": 12,
   "id": "c8e6ae8f-b607-4888-9fd0-b000638043dd",
   "metadata": {},
   "outputs": [],
   "source": [
    "import numpy as np\n",
    "import pandas as pd\n",
    "from sklearn.preprocessing import LabelEncoder\n",
    "from sklearn.model_selection import train_test_split"
   ]
  },
  {
   "cell_type": "code",
   "execution_count": 2,
   "id": "78e40ea5-1ae3-41da-8540-d06d2a73aef9",
   "metadata": {},
   "outputs": [],
   "source": [
    "def entropy(a):\n",
    "    sm = a.sum()\n",
    "\n",
    "    sh = a.shape\n",
    "    assert len(sh) == 1, \"should have exactly 1 row\"\n",
    "    e = 0\n",
    "    for i in range(sh[0]):\n",
    "        val = a[i]\n",
    "        prob = val / sm\n",
    "        e += prob * np.log2(prob)\n",
    "    e *= -1\n",
    "\n",
    "    return e"
   ]
  },
  {
   "cell_type": "code",
   "execution_count": 3,
   "id": "b2718eb6-c111-434f-9802-3fd879fef688",
   "metadata": {},
   "outputs": [],
   "source": [
    "def gini_index(a):\n",
    "    sm = a.sum()\n",
    "\n",
    "    sh = a.shape\n",
    "    assert len(sh) == 1, \"should have exactly 1 row\"\n",
    "    gi = 1\n",
    "    for i in range(sh[0]):\n",
    "        val = a[i]\n",
    "        prob = val / sm\n",
    "        gi -= np.pow(prob, 2)\n",
    "\n",
    "    return gi"
   ]
  },
  {
   "cell_type": "code",
   "execution_count": 4,
   "id": "52f76fbd-a88d-425e-bd73-f4d3055fe5e0",
   "metadata": {},
   "outputs": [],
   "source": [
    "def information_gain(a, b, c, fn):\n",
    "    a_sm = a.sum()\n",
    "    b_sm = b.sum()\n",
    "    c_sm = c.sum()\n",
    "\n",
    "    assert a_sm  == b_sm + c_sm, \"all the samples should be present in either of the split\"\n",
    "    \n",
    "    return fn(a) - ((b_sm / a_sm) * fn(b) + (c_sm / a_sm) * fn(c))"
   ]
  },
  {
   "cell_type": "code",
   "execution_count": 5,
   "id": "387dce94-9330-4c94-8348-68a055896b1a",
   "metadata": {},
   "outputs": [
    {
     "data": {
      "text/plain": [
       "np.float64(0.38121435556157335)"
      ]
     },
     "execution_count": 5,
     "metadata": {},
     "output_type": "execute_result"
    }
   ],
   "source": [
    "information_gain(np.array([16, 14]), np.array([12, 1]), np.array([4, 13]), entropy)"
   ]
  },
  {
   "cell_type": "code",
   "execution_count": 6,
   "id": "2a07e7be-6db2-45fa-9d24-0529c83d71a7",
   "metadata": {},
   "outputs": [
    {
     "data": {
      "text/plain": [
       "np.float64(0.23231774761186524)"
      ]
     },
     "execution_count": 6,
     "metadata": {},
     "output_type": "execute_result"
    }
   ],
   "source": [
    "information_gain(np.array([16, 14]), np.array([12, 1]), np.array([4, 13]), gini_index)"
   ]
  },
  {
   "cell_type": "markdown",
   "id": "e9c782ad-dad5-4e6a-a875-72d81e6e2dce",
   "metadata": {},
   "source": [
    "# Decision trees on Titanic dataset"
   ]
  },
  {
   "cell_type": "code",
   "execution_count": 7,
   "id": "cfdb1d5d-9d01-4d48-9dcc-ff0309212b81",
   "metadata": {},
   "outputs": [
    {
     "data": {
      "text/html": [
       "<div>\n",
       "<style scoped>\n",
       "    .dataframe tbody tr th:only-of-type {\n",
       "        vertical-align: middle;\n",
       "    }\n",
       "\n",
       "    .dataframe tbody tr th {\n",
       "        vertical-align: top;\n",
       "    }\n",
       "\n",
       "    .dataframe thead th {\n",
       "        text-align: right;\n",
       "    }\n",
       "</style>\n",
       "<table border=\"1\" class=\"dataframe\">\n",
       "  <thead>\n",
       "    <tr style=\"text-align: right;\">\n",
       "      <th></th>\n",
       "      <th>PassengerId</th>\n",
       "      <th>Survived</th>\n",
       "      <th>Pclass</th>\n",
       "      <th>Name</th>\n",
       "      <th>Sex</th>\n",
       "      <th>Age</th>\n",
       "      <th>SibSp</th>\n",
       "      <th>Parch</th>\n",
       "      <th>Ticket</th>\n",
       "      <th>Fare</th>\n",
       "      <th>Cabin</th>\n",
       "      <th>Embarked</th>\n",
       "    </tr>\n",
       "  </thead>\n",
       "  <tbody>\n",
       "    <tr>\n",
       "      <th>0</th>\n",
       "      <td>1</td>\n",
       "      <td>0</td>\n",
       "      <td>3</td>\n",
       "      <td>Braund, Mr. Owen Harris</td>\n",
       "      <td>male</td>\n",
       "      <td>22.0</td>\n",
       "      <td>1</td>\n",
       "      <td>0</td>\n",
       "      <td>A/5 21171</td>\n",
       "      <td>7.2500</td>\n",
       "      <td>NaN</td>\n",
       "      <td>S</td>\n",
       "    </tr>\n",
       "    <tr>\n",
       "      <th>1</th>\n",
       "      <td>2</td>\n",
       "      <td>1</td>\n",
       "      <td>1</td>\n",
       "      <td>Cumings, Mrs. John Bradley (Florence Briggs Th...</td>\n",
       "      <td>female</td>\n",
       "      <td>38.0</td>\n",
       "      <td>1</td>\n",
       "      <td>0</td>\n",
       "      <td>PC 17599</td>\n",
       "      <td>71.2833</td>\n",
       "      <td>C85</td>\n",
       "      <td>C</td>\n",
       "    </tr>\n",
       "    <tr>\n",
       "      <th>2</th>\n",
       "      <td>3</td>\n",
       "      <td>1</td>\n",
       "      <td>3</td>\n",
       "      <td>Heikkinen, Miss. Laina</td>\n",
       "      <td>female</td>\n",
       "      <td>26.0</td>\n",
       "      <td>0</td>\n",
       "      <td>0</td>\n",
       "      <td>STON/O2. 3101282</td>\n",
       "      <td>7.9250</td>\n",
       "      <td>NaN</td>\n",
       "      <td>S</td>\n",
       "    </tr>\n",
       "    <tr>\n",
       "      <th>3</th>\n",
       "      <td>4</td>\n",
       "      <td>1</td>\n",
       "      <td>1</td>\n",
       "      <td>Futrelle, Mrs. Jacques Heath (Lily May Peel)</td>\n",
       "      <td>female</td>\n",
       "      <td>35.0</td>\n",
       "      <td>1</td>\n",
       "      <td>0</td>\n",
       "      <td>113803</td>\n",
       "      <td>53.1000</td>\n",
       "      <td>C123</td>\n",
       "      <td>S</td>\n",
       "    </tr>\n",
       "    <tr>\n",
       "      <th>4</th>\n",
       "      <td>5</td>\n",
       "      <td>0</td>\n",
       "      <td>3</td>\n",
       "      <td>Allen, Mr. William Henry</td>\n",
       "      <td>male</td>\n",
       "      <td>35.0</td>\n",
       "      <td>0</td>\n",
       "      <td>0</td>\n",
       "      <td>373450</td>\n",
       "      <td>8.0500</td>\n",
       "      <td>NaN</td>\n",
       "      <td>S</td>\n",
       "    </tr>\n",
       "  </tbody>\n",
       "</table>\n",
       "</div>"
      ],
      "text/plain": [
       "   PassengerId  Survived  Pclass  \\\n",
       "0            1         0       3   \n",
       "1            2         1       1   \n",
       "2            3         1       3   \n",
       "3            4         1       1   \n",
       "4            5         0       3   \n",
       "\n",
       "                                                Name     Sex   Age  SibSp  \\\n",
       "0                            Braund, Mr. Owen Harris    male  22.0      1   \n",
       "1  Cumings, Mrs. John Bradley (Florence Briggs Th...  female  38.0      1   \n",
       "2                             Heikkinen, Miss. Laina  female  26.0      0   \n",
       "3       Futrelle, Mrs. Jacques Heath (Lily May Peel)  female  35.0      1   \n",
       "4                           Allen, Mr. William Henry    male  35.0      0   \n",
       "\n",
       "   Parch            Ticket     Fare Cabin Embarked  \n",
       "0      0         A/5 21171   7.2500   NaN        S  \n",
       "1      0          PC 17599  71.2833   C85        C  \n",
       "2      0  STON/O2. 3101282   7.9250   NaN        S  \n",
       "3      0            113803  53.1000  C123        S  \n",
       "4      0            373450   8.0500   NaN        S  "
      ]
     },
     "execution_count": 7,
     "metadata": {},
     "output_type": "execute_result"
    }
   ],
   "source": [
    "df = pd.read_csv('../data/Titanic-Dataset.csv')\n",
    "df.head()"
   ]
  },
  {
   "cell_type": "markdown",
   "id": "d992c72a-e2cf-4a69-85ba-9fc53326accf",
   "metadata": {},
   "source": [
    "## Cleaning data"
   ]
  },
  {
   "cell_type": "code",
   "execution_count": 8,
   "id": "0bb0168d-16c3-4d8a-9c30-448eb2647a69",
   "metadata": {},
   "outputs": [
    {
     "name": "stdout",
     "output_type": "stream",
     "text": [
      "Ratio of NaN in Cabin column  0.7710437710437711\n"
     ]
    }
   ],
   "source": [
    "# A lot of the Cabin data is unknown\n",
    "print(\"Ratio of NaN in Cabin column \", len(df[df[\"Cabin\"].isna()]) / len(df))\n",
    "df['Cabin'] = df['Cabin'].apply(lambda x: 0 if pd.isnull(x) else 1)"
   ]
  },
  {
   "cell_type": "code",
   "execution_count": 13,
   "id": "100a2227-2e16-4315-af0d-fb03c522313a",
   "metadata": {},
   "outputs": [],
   "source": [
    "# Encoding categorical data\n",
    "sex_le = LabelEncoder()\n",
    "df['Sex'] = sex_le.fit_transform(df['Sex'])\n",
    "\n",
    "embarked_le = LabelEncoder()\n",
    "df['Embarked'] = embarked_le.fit_transform(df['Embarked'])"
   ]
  },
  {
   "cell_type": "markdown",
   "id": "a9b6fd1e-63cb-4bb1-8dac-b028d9c4352a",
   "metadata": {},
   "source": [
    "## Splitting data"
   ]
  },
  {
   "cell_type": "code",
   "execution_count": 21,
   "id": "b169144e-912f-4a26-b88b-9a8a690d8f7e",
   "metadata": {},
   "outputs": [],
   "source": [
    "feat_cols = ['Pclass', 'Sex', 'SibSp', 'Parch', 'Cabin', 'Embarked']\n",
    "label_col = 'Survived'\n",
    "\n",
    "X = df[feat_cols]\n",
    "y = df[label_col]"
   ]
  },
  {
   "cell_type": "code",
   "execution_count": 22,
   "id": "c026ef5e-9c31-4bf0-b6f9-a4f06902a324",
   "metadata": {},
   "outputs": [],
   "source": [
    "X_train, X_valid, y_train, y_valid = train_test_split(X, y, test_size=0.2, shuffle=True)"
   ]
  },
  {
   "cell_type": "code",
   "execution_count": 23,
   "id": "620f8a7f-fa03-4252-94a8-5bb3c5f72157",
   "metadata": {},
   "outputs": [
    {
     "data": {
      "text/plain": [
       "(     Pclass  Sex  SibSp  Parch  Cabin  Embarked\n",
       " 645       1    1      1      0      1         0\n",
       " 680       3    0      0      0      0         1\n",
       " 296       3    1      0      0      0         0\n",
       " 548       3    1      1      1      0         2\n",
       " 639       3    1      1      0      0         2\n",
       " ..      ...  ...    ...    ...    ...       ...\n",
       " 771       3    1      0      0      0         2\n",
       " 390       1    1      1      2      1         2\n",
       " 888       3    0      1      2      0         2\n",
       " 738       3    1      0      0      0         2\n",
       " 791       2    1      0      0      0         2\n",
       " \n",
       " [712 rows x 6 columns],\n",
       " 645    1\n",
       " 680    0\n",
       " 296    0\n",
       " 548    0\n",
       " 639    0\n",
       "       ..\n",
       " 771    0\n",
       " 390    1\n",
       " 888    0\n",
       " 738    0\n",
       " 791    0\n",
       " Name: Survived, Length: 712, dtype: int64)"
      ]
     },
     "execution_count": 23,
     "metadata": {},
     "output_type": "execute_result"
    }
   ],
   "source": [
    "X_train, y_train"
   ]
  },
  {
   "cell_type": "markdown",
   "id": "de2fd897-3396-4281-a2c9-2ac887c37f19",
   "metadata": {},
   "source": [
    "## Training and inference"
   ]
  },
  {
   "cell_type": "code",
   "execution_count": null,
   "id": "e5fa4877-929d-497e-8c00-04e0d8514ca8",
   "metadata": {},
   "outputs": [],
   "source": []
  }
 ],
 "metadata": {
  "kernelspec": {
   "display_name": "Python 3 (ipykernel)",
   "language": "python",
   "name": "python3"
  },
  "language_info": {
   "codemirror_mode": {
    "name": "ipython",
    "version": 3
   },
   "file_extension": ".py",
   "mimetype": "text/x-python",
   "name": "python",
   "nbconvert_exporter": "python",
   "pygments_lexer": "ipython3",
   "version": "3.13.2"
  }
 },
 "nbformat": 4,
 "nbformat_minor": 5
}
